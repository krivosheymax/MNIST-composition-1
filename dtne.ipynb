{
  "nbformat": 4,
  "nbformat_minor": 0,
  "metadata": {
    "colab": {
      "provenance": [],
      "gpuType": "T4"
    },
    "kernelspec": {
      "name": "python3",
      "display_name": "Python 3"
    },
    "language_info": {
      "name": "python"
    },
    "accelerator": "GPU"
  },
  "cells": [
    {
      "cell_type": "markdown",
      "source": [
        "Перед запуском программы нужно загрузить в Google Drive по адресу: /content/drive/MyDrive/ два файла - ranf.joblib и mod.pth."
      ],
      "metadata": {
        "id": "G5CiRZ_J-oR5"
      }
    },
    {
      "cell_type": "code",
      "execution_count": null,
      "metadata": {
        "colab": {
          "base_uri": "https://localhost:8080/"
        },
        "id": "mF45Gubi4yn2",
        "outputId": "873102f6-86a8-4ab3-ab3e-34fdfe75c6c4"
      },
      "outputs": [
        {
          "output_type": "stream",
          "name": "stdout",
          "text": [
            "Drive already mounted at /content/drive; to attempt to forcibly remount, call drive.mount(\"/content/drive\", force_remount=True).\n"
          ]
        }
      ],
      "source": [
        "import torch\n",
        "import torch.nn as nn\n",
        "import torch.nn.functional as F\n",
        "import torch.utils.data\n",
        "import numpy as np\n",
        "import matplotlib.pyplot as plt\n",
        "from google.colab import drive\n",
        "drive.mount('/content/drive')"
      ]
    },
    {
      "cell_type": "code",
      "source": [
        "nn1 = 80\n",
        "nn2 = 108\n",
        "nn3 = 156\n",
        "nn4 = 244\n",
        "nn5 = 319\n",
        "nn6 = 435\n",
        "nn7 = 2000\n",
        "nn8 = 500\n",
        "nc = 10\n",
        "bs=64\n",
        "dev = \"cuda\""
      ],
      "metadata": {
        "id": "-wQ6QGpu45pF"
      },
      "execution_count": null,
      "outputs": []
    },
    {
      "cell_type": "code",
      "source": [
        "from sklearn.datasets import fetch_openml\n",
        "X, y = fetch_openml('mnist_784', version=1, return_X_y=True, as_frame=False)\n",
        "y = y.astype(int)"
      ],
      "metadata": {
        "id": "gk8LyS0n4-GH"
      },
      "execution_count": null,
      "outputs": []
    },
    {
      "cell_type": "code",
      "source": [
        "X_train, X_test, y_train, y_test = X[:60000], X[60000:], y[:60000], y[60000:]\n",
        "X = None"
      ],
      "metadata": {
        "id": "wfpw1MJR5BMG"
      },
      "execution_count": null,
      "outputs": []
    },
    {
      "cell_type": "code",
      "source": [
        "from sklearn.ensemble import RandomForestClassifier\n",
        "import joblib\n",
        "rf = joblib.load(\"/content/drive/MyDrive/ranf.joblib\")"
      ],
      "metadata": {
        "id": "kwPpeG655DuG"
      },
      "execution_count": null,
      "outputs": []
    },
    {
      "cell_type": "code",
      "source": [
        "mod = torch.load(\"/content/drive/MyDrive/mod.pth\")"
      ],
      "metadata": {
        "id": "bhyssnRM5cYR"
      },
      "execution_count": null,
      "outputs": []
    },
    {
      "cell_type": "code",
      "source": [
        "class FCN(nn.Module):\n",
        "  def __init__(self):\n",
        "    super(FCN, self).__init__()\n",
        "    self.cc1 = nn.Conv2d(1, nn1, 5)\n",
        "    self.cc2 = nn.Conv2d(nn1, nn2, 5)\n",
        "    self.cc3 = nn.Conv2d(nn2, nn3, 5)\n",
        "    self.cc4 = nn.Conv2d(nn3, nn4, 5)\n",
        "    self.cc5 = nn.Conv2d(nn4, nn5, 3)\n",
        "    self.cc6 = nn.Conv2d(nn5, nn6, 3)\n",
        "    self.fc1 = nn.Linear(27840, nn7)\n",
        "    self.fc2 = nn.Linear(nn7, nn8)\n",
        "    self.fc3 = nn.Linear(nn8, nc)\n",
        "  def forward(self, x):\n",
        "    z1 = F.relu(self.cc1(x))\n",
        "    z2 = F.relu(self.cc2(z1))\n",
        "    z3 = F.relu(self.cc3(z2))\n",
        "    z4 = F.relu(self.cc4(z3))\n",
        "    z5 = F.relu(self.cc5(z4))\n",
        "    z6 = F.relu(self.cc6(z5))\n",
        "    z6 = nn.Flatten()(z6)\n",
        "    z7 = F.dropout(F.relu(self.fc1(z6)), p=0.005)\n",
        "    z8 = F.relu(self.fc2(z7))\n",
        "    z9 = self.fc3(z8)\n",
        "    return z9"
      ],
      "metadata": {
        "id": "BE688uyq6F-f"
      },
      "execution_count": null,
      "outputs": []
    },
    {
      "cell_type": "code",
      "source": [
        "net = FCN()\n",
        "net.to(dev)\n",
        "net.load_state_dict(mod)\n",
        "mod = None\n",
        "net.eval()\n",
        "w = torch.nn.Sequential(net.cc1, nn.ReLU(), net.cc2, nn.ReLU(),  net.cc3, nn.ReLU(),  net.cc4, nn.ReLU(),  net.cc5, nn.ReLU(),  net.cc6, nn.ReLU(), nn.Flatten(), net.fc1, nn.ReLU())"
      ],
      "metadata": {
        "id": "tQcHTjTC6P0e"
      },
      "execution_count": null,
      "outputs": []
    },
    {
      "cell_type": "code",
      "source": [
        "def pred(X):\n",
        "  return rf.predict(f(X).to('cpu').detach().numpy())\n",
        "def f(X):\n",
        "  return w(torch.Tensor(X).reshape(X.shape[0], 1, 28, 28).to(dev))"
      ],
      "metadata": {
        "id": "irB2a71w6W-v"
      },
      "execution_count": null,
      "outputs": []
    },
    {
      "cell_type": "code",
      "source": [
        "q = pred(X_test)"
      ],
      "metadata": {
        "id": "WD8QMz2l6pCN"
      },
      "execution_count": null,
      "outputs": []
    },
    {
      "cell_type": "code",
      "source": [
        "from sklearn.metrics import accuracy_score\n",
        "accuracy_score(q, y_test)"
      ],
      "metadata": {
        "colab": {
          "base_uri": "https://localhost:8080/"
        },
        "id": "Txut5s46-IR3",
        "outputId": "89eacff7-4d3b-49e3-813e-679f81361484"
      },
      "execution_count": null,
      "outputs": [
        {
          "output_type": "execute_result",
          "data": {
            "text/plain": [
              "0.995"
            ]
          },
          "metadata": {},
          "execution_count": 11
        }
      ]
    },
    {
      "cell_type": "code",
      "source": [
        "b = X_test[q!=y_test]\n",
        "by = y_test[q!=y_test]\n",
        "bc = q[q!=y_test]"
      ],
      "metadata": {
        "id": "TBwZEwZPMh0V"
      },
      "execution_count": null,
      "outputs": []
    },
    {
      "cell_type": "code",
      "source": [
        "tt=17\n",
        "print(by[tt], bc[tt])\n",
        "plt.imshow(b[tt].reshape(28, 28), cmap='Grays')\n",
        "plt.plot()"
      ],
      "metadata": {
        "colab": {
          "base_uri": "https://localhost:8080/",
          "height": 465
        },
        "id": "RTQZ8c6nMqpm",
        "outputId": "60e9d5da-12d5-451e-9a0c-d026befe6cf3"
      },
      "execution_count": null,
      "outputs": [
        {
          "output_type": "stream",
          "name": "stdout",
          "text": [
            "6 1\n"
          ]
        },
        {
          "output_type": "execute_result",
          "data": {
            "text/plain": [
              "[]"
            ]
          },
          "metadata": {},
          "execution_count": 26
        },
        {
          "output_type": "display_data",
          "data": {
            "text/plain": [
              "<Figure size 640x480 with 1 Axes>"
            ],
            "image/png": "[encoded data removed]"
          },
          "metadata": {}
        }
      ]
    }
  ]
}